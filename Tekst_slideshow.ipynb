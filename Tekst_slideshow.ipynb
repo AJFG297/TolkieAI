{
 "cells": [
  {
   "cell_type": "code",
   "execution_count": 1,
   "metadata": {},
   "outputs": [
    {
     "name": "stdout",
     "output_type": "stream",
     "text": [
      "Requirement already satisfied: Pillow in c:\\users\\robin\\appdata\\local\\programs\\python\\python312\\lib\\site-packages (10.2.0)\n",
      "Requirement already satisfied: moviepy in c:\\users\\robin\\appdata\\local\\programs\\python\\python312\\lib\\site-packages (1.0.3)\n",
      "Requirement already satisfied: decorator<5.0,>=4.0.2 in c:\\users\\robin\\appdata\\local\\programs\\python\\python312\\lib\\site-packages (from moviepy) (4.4.2)\n",
      "Requirement already satisfied: tqdm<5.0,>=4.11.2 in c:\\users\\robin\\appdata\\local\\programs\\python\\python312\\lib\\site-packages (from moviepy) (4.66.2)\n",
      "Requirement already satisfied: requests<3.0,>=2.8.1 in c:\\users\\robin\\appdata\\local\\programs\\python\\python312\\lib\\site-packages (from moviepy) (2.31.0)\n",
      "Requirement already satisfied: proglog<=1.0.0 in c:\\users\\robin\\appdata\\local\\programs\\python\\python312\\lib\\site-packages (from moviepy) (0.1.10)\n",
      "Requirement already satisfied: numpy>=1.17.3 in c:\\users\\robin\\appdata\\local\\programs\\python\\python312\\lib\\site-packages (from moviepy) (1.26.4)\n",
      "Requirement already satisfied: imageio<3.0,>=2.5 in c:\\users\\robin\\appdata\\local\\programs\\python\\python312\\lib\\site-packages (from moviepy) (2.34.0)\n",
      "Requirement already satisfied: imageio-ffmpeg>=0.2.0 in c:\\users\\robin\\appdata\\local\\programs\\python\\python312\\lib\\site-packages (from moviepy) (0.4.9)\n",
      "Requirement already satisfied: setuptools in c:\\users\\robin\\appdata\\local\\programs\\python\\python312\\lib\\site-packages (from imageio-ffmpeg>=0.2.0->moviepy) (69.1.1)\n",
      "Requirement already satisfied: charset-normalizer<4,>=2 in c:\\users\\robin\\appdata\\local\\programs\\python\\python312\\lib\\site-packages (from requests<3.0,>=2.8.1->moviepy) (3.3.2)\n",
      "Requirement already satisfied: idna<4,>=2.5 in c:\\users\\robin\\appdata\\local\\programs\\python\\python312\\lib\\site-packages (from requests<3.0,>=2.8.1->moviepy) (3.6)\n",
      "Requirement already satisfied: urllib3<3,>=1.21.1 in c:\\users\\robin\\appdata\\local\\programs\\python\\python312\\lib\\site-packages (from requests<3.0,>=2.8.1->moviepy) (2.2.1)\n",
      "Requirement already satisfied: certifi>=2017.4.17 in c:\\users\\robin\\appdata\\local\\programs\\python\\python312\\lib\\site-packages (from requests<3.0,>=2.8.1->moviepy) (2024.2.2)\n",
      "Requirement already satisfied: colorama in c:\\users\\robin\\appdata\\roaming\\python\\python312\\site-packages (from tqdm<5.0,>=4.11.2->moviepy) (0.4.6)\n",
      "Note: you may need to restart the kernel to use updated packages.\n"
     ]
    }
   ],
   "source": [
    "pip install Pillow moviepy"
   ]
  },
  {
   "cell_type": "code",
   "execution_count": 5,
   "metadata": {},
   "outputs": [
    {
     "name": "stdout",
     "output_type": "stream",
     "text": [
      "Moviepy - Building video presentation_video.mp4.\n",
      "Moviepy - Writing video presentation_video.mp4\n",
      "\n"
     ]
    },
    {
     "name": "stderr",
     "output_type": "stream",
     "text": [
      "                                                               "
     ]
    },
    {
     "name": "stdout",
     "output_type": "stream",
     "text": [
      "Moviepy - Done !\n",
      "Moviepy - video ready presentation_video.mp4\n",
      "Video saved successfully\n"
     ]
    },
    {
     "name": "stderr",
     "output_type": "stream",
     "text": [
      "\r"
     ]
    }
   ],
   "source": [
    "import pandas as pd\n",
    "import matplotlib.pyplot as plt\n",
    "from moviepy.editor import ImageSequenceClip, concatenate_videoclips\n",
    "from PIL import Image\n",
    "from io import BytesIO\n",
    "import numpy as np\n",
    "\n",
    "# Your text\n",
    "text = \"\"\"\n",
    "De manager plant een vergadering in waar alle medewerkers in uitgenodigd worden.\n",
    "Wanneer de vergadering begint wordt door de manager verteld dat er gewerkt gaat worden met AI.\n",
    "De manager is enthousiast bij het vertellen van alle mogelijkheden die AI heeft binnen het bedrijf.\n",
    "Het enige wat hij niet erbij verteld is de impact dat AI heeft op de medewerkers.\n",
    "De medewerkers komen na het weekend weer op hun werk en zien dat al hun taken al uitgevoerd zijn door AI.\n",
    "\"\"\"\n",
    "\n",
    "# Split the text into sentences\n",
    "sentences = text.strip().split('\\n')\n",
    "\n",
    "# Initialize list to store images\n",
    "images = []\n",
    "\n",
    "# Set target width and height\n",
    "target_width, target_height = 800, 600\n",
    "\n",
    "# Accumulate previous sentences\n",
    "accumulated_text = \"\"\n",
    "\n",
    "# Loop through sentences and create images\n",
    "for i, sentence in enumerate(sentences):\n",
    "    # Accumulate previous sentences\n",
    "    accumulated_text += sentence + \"\\n\"\n",
    "    \n",
    "    # Create a figure and axis\n",
    "    fig, ax = plt.subplots(figsize=(8, 6))\n",
    "    \n",
    "    # Set black background\n",
    "    fig.patch.set_facecolor('black')\n",
    "    \n",
    "    # Remove axis\n",
    "    ax.axis('off')\n",
    "    \n",
    "    # Add accumulated text to the plot\n",
    "    ax.text(0.5, 0.5, accumulated_text, fontsize=18, ha='center', va='center', color='white', fontname='Arial')\n",
    "    \n",
    "    # Save the plot to a BytesIO object\n",
    "    img_buffer = BytesIO()\n",
    "    plt.savefig(img_buffer, format='png', bbox_inches='tight', pad_inches=0, facecolor='black')\n",
    "    img_buffer.seek(0)\n",
    "    \n",
    "    # Open the image\n",
    "    image = Image.open(img_buffer)\n",
    "    \n",
    "    # Resize the image\n",
    "    image_resized = image.resize((target_width, target_height))\n",
    "    \n",
    "    # Convert resized image to numpy array\n",
    "    image_np = np.array(image_resized)\n",
    "    \n",
    "    # Append the resized image to the list\n",
    "    images.append(image_np)\n",
    "    \n",
    "    # Add 5 seconds delay between each frame\n",
    "    for _ in range(5 * 25):  # 25 frames per second\n",
    "        images.append(image_np)  # Repeat the current frame\n",
    "\n",
    "    # Close the plot to avoid memory issues\n",
    "    plt.close()\n",
    "\n",
    "# Create a video clip from the images\n",
    "video_clip = ImageSequenceClip(images, fps=25)\n",
    "\n",
    "# Save the video\n",
    "video_clip.write_videofile('presentation_video.mp4', fps=25)\n",
    "\n",
    "print(\"Video saved successfully\")\n"
   ]
  }
 ],
 "metadata": {
  "kernelspec": {
   "display_name": "Python 3",
   "language": "python",
   "name": "python3"
  },
  "language_info": {
   "codemirror_mode": {
    "name": "ipython",
    "version": 3
   },
   "file_extension": ".py",
   "mimetype": "text/x-python",
   "name": "python",
   "nbconvert_exporter": "python",
   "pygments_lexer": "ipython3",
   "version": "3.12.2"
  }
 },
 "nbformat": 4,
 "nbformat_minor": 2
}
